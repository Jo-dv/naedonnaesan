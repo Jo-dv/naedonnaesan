{
 "cells": [
  {
   "cell_type": "code",
   "execution_count": 1,
   "metadata": {},
   "outputs": [],
   "source": [
    "from bs4 import BeautifulSoup\n",
    "import pandas as pd\n",
    "import requests"
   ]
  },
  {
   "cell_type": "code",
   "execution_count": 33,
   "metadata": {},
   "outputs": [
    {
     "name": "stdout",
     "output_type": "stream",
     "text": [
      "<title>도봉구 창동 : 네이버 뉴스검색</title>\n"
     ]
    }
   ],
   "source": [
    "url = 'https://search.naver.com/search.naver?where=news&query=%EB%8F%84%EB%B4%89%EA%B5%AC%20%EC%B0%BD%EB%8F%99'\n",
    "header = {\"user-agent\": \"Mozilla/5.0\"}\n",
    "\n",
    "html = requests.get(url, headers=header)\n",
    "soup = BeautifulSoup(html.text, 'html.parser')\n",
    "          \n",
    "print(soup.title)"
   ]
  },
  {
   "cell_type": "code",
   "execution_count": 34,
   "metadata": {},
   "outputs": [
    {
     "data": {
      "text/plain": [
       "[<a class=\"news_tit\" href=\"https://www.yna.co.kr/view/AKR20240313100500004?input=1195m\" onclick=\"return goOtherCR(this, 'a=nws*a.tit&amp;r=1&amp;i=880000D8_000000000000000014560453&amp;g=001.0014560453&amp;u='+urlencode(this.href));\" target=\"_blank\" title=\"도봉구, 6월까지 황톳길·맨발산책로 3곳 조성\"><mark>도봉구</mark>, 6월까지 황톳길·맨발산책로 3곳 조성</a>]"
      ]
     },
     "execution_count": 34,
     "metadata": {},
     "output_type": "execute_result"
    }
   ],
   "source": [
    "soup.select('#sp_nws1 > div.news_wrap.api_ani_send > div > div.news_contents > a.news_tit')"
   ]
  },
  {
   "cell_type": "code",
   "execution_count": 35,
   "metadata": {},
   "outputs": [
    {
     "name": "stdout",
     "output_type": "stream",
     "text": [
      "서울 도봉구(구청장 오언석)는 상반기 중에 초안산근린공원 창동 677번지 일대 등 3곳에 황톳길, 맨발 숲길을 조성한다고 13일 밝혔다. 이를 위해 구는 지난해 12월 '도봉구 맨발 걷기 활성화 지원에 관한 조례'를 제정하고 지난달 세부 추진계획인 '맨발 산책로 조성 및 맨발 걷기 활성화 계획'을 수립했다....\n"
     ]
    }
   ],
   "source": [
    "# CSS 선택자를 사용하여 <a> 태그 선택 (여러 요소가 선택될 수 있음)\n",
    "a_tags = soup.select('#sp_nws1 > div.news_wrap.api_ani_send > div > div.news_contents > div > div > a')\n",
    "\n",
    "# 각 <a> 태그에 대해 반복하면서 텍스트 출력\n",
    "for a_tag in a_tags:\n",
    "    print(a_tag.text)  # 각 요소의 .text 속성을 사용"
   ]
  },
  {
   "cell_type": "code",
   "execution_count": 32,
   "metadata": {},
   "outputs": [
    {
     "data": {
      "text/plain": [
       "[<a class=\"api_txt_lines dsc_txt_wrap\" href=\"https://www.yna.co.kr/view/AKR20240314134400004?input=1195m\" onclick=\"return goOtherCR(this, 'a=nws*a.body&amp;r=1&amp;i=880000D8_000000000000000014564121&amp;g=001.0014564121&amp;u='+urlencode(this.href));\" target=\"_blank\">서울 <mark>도봉구</mark>(구청장 오언석)는 '불법촬영예방 종합계획'을 수립하고 지역 내 공중화장실 101곳에 대한 상시 점검 체계를 구축했다고 14일 밝혔다. 먼저 구와 <mark>도봉구</mark>시설관리공단이 관리하는 24곳을 대상으로 자체 점검을 실시한다. 구는 공중화장실 관리 담당자를 지정케 하고 일일 육안 점검과 월 1회 이상...</a>]"
      ]
     },
     "execution_count": 32,
     "metadata": {},
     "output_type": "execute_result"
    }
   ],
   "source": [
    "a_tags"
   ]
  },
  {
   "cell_type": "markdown",
   "metadata": {},
   "source": []
  },
  {
   "cell_type": "code",
   "execution_count": 28,
   "metadata": {},
   "outputs": [
    {
     "data": {
      "text/plain": [
       "\"서울 도봉구(구청장 오언석)는 '불법촬영예방 종합계획'을 수립하고 지역 내 공중화장실 101곳에 대한 상시 점검 체계를 구축했다고 14일 밝혔다. 먼저 구와 도봉구시설관리공단이 관리하는 24곳을 대상으로 자체 점검을 실시한다. 구는 공중화장실 관리 담당자를 지정케 하고 일일 육안 점검과 월 1회 이상...\""
      ]
     },
     "execution_count": 28,
     "metadata": {},
     "output_type": "execute_result"
    }
   ],
   "source": [
    "a_tags[0].text"
   ]
  },
  {
   "cell_type": "code",
   "execution_count": 3,
   "metadata": {},
   "outputs": [
    {
     "ename": "IndexError",
     "evalue": "list index out of range",
     "output_type": "error",
     "traceback": [
      "\u001b[1;31m---------------------------------------------------------------------------\u001b[0m",
      "\u001b[1;31mIndexError\u001b[0m                                Traceback (most recent call last)",
      "Cell \u001b[1;32mIn[3], line 4\u001b[0m\n\u001b[0;32m      1\u001b[0m link_li \u001b[38;5;241m=\u001b[39m []\n\u001b[0;32m      3\u001b[0m \u001b[38;5;28;01mfor\u001b[39;00m i \u001b[38;5;129;01min\u001b[39;00m \u001b[38;5;28mrange\u001b[39m(\u001b[38;5;241m1\u001b[39m,\u001b[38;5;241m11\u001b[39m):\n\u001b[1;32m----> 4\u001b[0m     link_li\u001b[38;5;241m.\u001b[39mappend(\u001b[43msoup\u001b[49m\u001b[38;5;241;43m.\u001b[39;49m\u001b[43mselect\u001b[49m\u001b[43m(\u001b[49m\u001b[38;5;124;43m'\u001b[39;49m\u001b[38;5;124;43m#main_content > div.list_body.newsflash_body > ul.type06_headline > li:nth-of-type(\u001b[39;49m\u001b[38;5;124;43m'\u001b[39;49m\u001b[43m \u001b[49m\u001b[38;5;241;43m+\u001b[39;49m\u001b[43m \u001b[49m\u001b[38;5;28;43mstr\u001b[39;49m\u001b[43m(\u001b[49m\u001b[43mi\u001b[49m\u001b[43m)\u001b[49m\u001b[43m \u001b[49m\u001b[38;5;241;43m+\u001b[39;49m\u001b[43m \u001b[49m\u001b[38;5;124;43m'\u001b[39;49m\u001b[38;5;124;43m) > dl > dt > a\u001b[39;49m\u001b[38;5;124;43m'\u001b[39;49m\u001b[43m)\u001b[49m\u001b[43m[\u001b[49m\u001b[38;5;241;43m0\u001b[39;49m\u001b[43m]\u001b[49m\u001b[38;5;241m.\u001b[39mattrs[\u001b[38;5;124m'\u001b[39m\u001b[38;5;124mhref\u001b[39m\u001b[38;5;124m'\u001b[39m])\n\u001b[0;32m      6\u001b[0m \u001b[38;5;28;01mfor\u001b[39;00m i \u001b[38;5;129;01min\u001b[39;00m \u001b[38;5;28mrange\u001b[39m(\u001b[38;5;241m1\u001b[39m, \u001b[38;5;241m11\u001b[39m):\n\u001b[0;32m      7\u001b[0m     link_li\u001b[38;5;241m.\u001b[39mappend(soup\u001b[38;5;241m.\u001b[39mselect(\u001b[38;5;124m'\u001b[39m\u001b[38;5;124m#main_content > div.list_body.newsflash_body > ul.type06 > li:nth-of-type(\u001b[39m\u001b[38;5;124m'\u001b[39m \u001b[38;5;241m+\u001b[39m \u001b[38;5;28mstr\u001b[39m(i) \u001b[38;5;241m+\u001b[39m \u001b[38;5;124m'\u001b[39m\u001b[38;5;124m) > dl > dt > a\u001b[39m\u001b[38;5;124m'\u001b[39m)[\u001b[38;5;241m0\u001b[39m]\u001b[38;5;241m.\u001b[39mattrs[\u001b[38;5;124m'\u001b[39m\u001b[38;5;124mhref\u001b[39m\u001b[38;5;124m'\u001b[39m])\n",
      "\u001b[1;31mIndexError\u001b[0m: list index out of range"
     ]
    }
   ],
   "source": [
    "link_li = []\n",
    "\n",
    "for i in range(1,11):\n",
    "    link_li.append(soup.select('#main_content > div.list_body.newsflash_body > ul.type06_headline > li:nth-of-type(' + str(i) + ') > dl > dt > a')[0].attrs['href'])\n",
    "    \n",
    "for i in range(1, 11):\n",
    "    link_li.append(soup.select('#main_content > div.list_body.newsflash_body > ul.type06 > li:nth-of-type(' + str(i) + ') > dl > dt > a')[0].attrs['href'])"
   ]
  },
  {
   "cell_type": "code",
   "execution_count": null,
   "metadata": {},
   "outputs": [],
   "source": [
    "link_li"
   ]
  },
  {
   "cell_type": "code",
   "execution_count": null,
   "metadata": {},
   "outputs": [],
   "source": [
    "title_lst = []\n",
    "description_lst = []\n",
    "date_lst = []\n",
    "\n",
    "for link in link_li:\n",
    "    header = {\"user-agent\": \"Mozilla/5.0\"}\n",
    "\n",
    "    html = requests.get(link, headers=header)\n",
    "    soup = BeautifulSoup(html.text, 'html.parser')\n",
    "    \n",
    "\n",
    "    title = soup.find('h2', {'id': 'title_area'})\n",
    "    title_lst.append(title.text)\n",
    "\n",
    "\n",
    "    description = soup.find('div', {'id': 'dic_area'})\n",
    "    description = description.text\n",
    "    description_lst.append(description)\n",
    "\n",
    "    date = soup.find('span', {'class': 'media_end_head_info_datestamp_time _ARTICLE_DATE_TIME'})\n",
    "    date = date['data-date-time']\n",
    "    date_lst.append(date)\n",
    "    \n",
    "df = pd.DataFrame(zip(date_lst, title_lst, description_lst), columns=['date', 'title', 'description'])"
   ]
  }
 ],
 "metadata": {
  "kernelspec": {
   "display_name": "Python 3",
   "language": "python",
   "name": "python3"
  },
  "language_info": {
   "codemirror_mode": {
    "name": "ipython",
    "version": 3
   },
   "file_extension": ".py",
   "mimetype": "text/x-python",
   "name": "python",
   "nbconvert_exporter": "python",
   "pygments_lexer": "ipython3",
   "version": "3.9.13"
  }
 },
 "nbformat": 4,
 "nbformat_minor": 2
}
